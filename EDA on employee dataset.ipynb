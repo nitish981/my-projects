{
 "cells": [
  {
   "cell_type": "markdown",
   "id": "39d7b5e6",
   "metadata": {},
   "source": [
    "# EMPLOYEE DATASET ANALYSIS"
   ]
  },
  {
   "cell_type": "code",
   "execution_count": 55,
   "id": "a7bde6f2",
   "metadata": {},
   "outputs": [
    {
     "data": {
      "text/html": [
       "<div>\n",
       "<style scoped>\n",
       "    .dataframe tbody tr th:only-of-type {\n",
       "        vertical-align: middle;\n",
       "    }\n",
       "\n",
       "    .dataframe tbody tr th {\n",
       "        vertical-align: top;\n",
       "    }\n",
       "\n",
       "    .dataframe thead th {\n",
       "        text-align: right;\n",
       "    }\n",
       "</style>\n",
       "<table border=\"1\" class=\"dataframe\">\n",
       "  <thead>\n",
       "    <tr style=\"text-align: right;\">\n",
       "      <th></th>\n",
       "      <th>ID</th>\n",
       "      <th>Experience_Years</th>\n",
       "      <th>Age</th>\n",
       "      <th>Gender</th>\n",
       "      <th>Salary</th>\n",
       "      <th>Dept_name</th>\n",
       "    </tr>\n",
       "  </thead>\n",
       "  <tbody>\n",
       "    <tr>\n",
       "      <th>0</th>\n",
       "      <td>1</td>\n",
       "      <td>5</td>\n",
       "      <td>28</td>\n",
       "      <td>Female</td>\n",
       "      <td>250000</td>\n",
       "      <td>HR</td>\n",
       "    </tr>\n",
       "    <tr>\n",
       "      <th>1</th>\n",
       "      <td>2</td>\n",
       "      <td>1</td>\n",
       "      <td>21</td>\n",
       "      <td>Male</td>\n",
       "      <td>50000</td>\n",
       "      <td>Finance</td>\n",
       "    </tr>\n",
       "    <tr>\n",
       "      <th>2</th>\n",
       "      <td>3</td>\n",
       "      <td>3</td>\n",
       "      <td>23</td>\n",
       "      <td>Female</td>\n",
       "      <td>170000</td>\n",
       "      <td>Finance</td>\n",
       "    </tr>\n",
       "    <tr>\n",
       "      <th>3</th>\n",
       "      <td>4</td>\n",
       "      <td>2</td>\n",
       "      <td>22</td>\n",
       "      <td>Male</td>\n",
       "      <td>25000</td>\n",
       "      <td>Finance</td>\n",
       "    </tr>\n",
       "    <tr>\n",
       "      <th>4</th>\n",
       "      <td>5</td>\n",
       "      <td>1</td>\n",
       "      <td>17</td>\n",
       "      <td>Male</td>\n",
       "      <td>10000</td>\n",
       "      <td>Tech</td>\n",
       "    </tr>\n",
       "  </tbody>\n",
       "</table>\n",
       "</div>"
      ],
      "text/plain": [
       "   ID  Experience_Years  Age  Gender  Salary Dept_name\n",
       "0   1                 5   28  Female  250000        HR\n",
       "1   2                 1   21    Male   50000   Finance\n",
       "2   3                 3   23  Female  170000   Finance\n",
       "3   4                 2   22    Male   25000   Finance\n",
       "4   5                 1   17    Male   10000      Tech"
      ]
     },
     "execution_count": 55,
     "metadata": {},
     "output_type": "execute_result"
    }
   ],
   "source": [
    "import pandas as pd\n",
    "import matplotlib.pyplot as plt\n",
    "import numpy as np\n",
    "col= ['ID','Experience_Years','Age','Gender','Salary','Dept_name']\n",
    "emp_df= pd.read_csv('employee_dataset.csv')\n",
    "emp_df= emp_df[col]\n",
    "emp_df.head()"
   ]
  },
  {
   "cell_type": "markdown",
   "id": "e306c8fa",
   "metadata": {},
   "source": [
    "### Q1- What is the average salary of employees by department?"
   ]
  },
  {
   "cell_type": "code",
   "execution_count": 18,
   "id": "62be9215",
   "metadata": {},
   "outputs": [
    {
     "data": {
      "text/html": [
       "<div>\n",
       "<style scoped>\n",
       "    .dataframe tbody tr th:only-of-type {\n",
       "        vertical-align: middle;\n",
       "    }\n",
       "\n",
       "    .dataframe tbody tr th {\n",
       "        vertical-align: top;\n",
       "    }\n",
       "\n",
       "    .dataframe thead th {\n",
       "        text-align: right;\n",
       "    }\n",
       "</style>\n",
       "<table border=\"1\" class=\"dataframe\">\n",
       "  <thead>\n",
       "    <tr style=\"text-align: right;\">\n",
       "      <th></th>\n",
       "      <th>Salary</th>\n",
       "    </tr>\n",
       "    <tr>\n",
       "      <th>Dept_name</th>\n",
       "      <th></th>\n",
       "    </tr>\n",
       "  </thead>\n",
       "  <tbody>\n",
       "    <tr>\n",
       "      <th>Finance</th>\n",
       "      <td>2165561.11</td>\n",
       "    </tr>\n",
       "    <tr>\n",
       "      <th>HR</th>\n",
       "      <td>1958208.33</td>\n",
       "    </tr>\n",
       "    <tr>\n",
       "      <th>Tech</th>\n",
       "      <td>2077257.14</td>\n",
       "    </tr>\n",
       "  </tbody>\n",
       "</table>\n",
       "</div>"
      ],
      "text/plain": [
       "              Salary\n",
       "Dept_name           \n",
       "Finance   2165561.11\n",
       "HR        1958208.33\n",
       "Tech      2077257.14"
      ]
     },
     "execution_count": 18,
     "metadata": {},
     "output_type": "execute_result"
    }
   ],
   "source": [
    "pd.options.display.float_format = '{:.2f}'.format\n",
    "df= emp_df.groupby('Dept_name').agg({'Salary': np.average})\n",
    "#pd.options.display.float_format = '{:.2f}'.format\n",
    "df"
   ]
  },
  {
   "cell_type": "markdown",
   "id": "fb04f6a4",
   "metadata": {},
   "source": [
    "### Q2- Which department has the highest average salary?"
   ]
  },
  {
   "cell_type": "code",
   "execution_count": 42,
   "id": "8fb7f2a1",
   "metadata": {},
   "outputs": [
    {
     "data": {
      "text/plain": [
       "Text(0.5, 0, 'Salary (in lac)')"
      ]
     },
     "execution_count": 42,
     "metadata": {},
     "output_type": "execute_result"
    },
    {
     "data": {
      "image/png": "[encoded data removed]",
      "text/plain": [
       "<Figure size 200x200 with 1 Axes>"
      ]
     },
     "metadata": {},
     "output_type": "display_data"
    }
   ],
   "source": [
    "plt.figure(figsize=(2,2))\n",
    "plt.barh(df.index,df['Salary']/100000)\n",
    "plt.xlim(18,24)\n",
    "plt.xlabel('Salary (in lac)')"
   ]
  },
  {
   "cell_type": "markdown",
   "id": "845ec013",
   "metadata": {},
   "source": [
    "### Q3- Which department has the highest number of employees?"
   ]
  },
  {
   "cell_type": "code",
   "execution_count": 47,
   "id": "bb200be3",
   "metadata": {},
   "outputs": [
    {
     "data": {
      "text/plain": [
       "Dept_name\n",
       "Finance     9\n",
       "HR         12\n",
       "Tech       14\n",
       "Name: Dept_name, dtype: int64"
      ]
     },
     "execution_count": 47,
     "metadata": {},
     "output_type": "execute_result"
    }
   ],
   "source": [
    "df1 =emp_df.groupby('Dept_name')['Dept_name'].count()\n",
    "df1"
   ]
  },
  {
   "cell_type": "code",
   "execution_count": 50,
   "id": "119fc69c",
   "metadata": {},
   "outputs": [
    {
     "data": {
      "text/plain": [
       "Text(0, 0.5, 'number of employee')"
      ]
     },
     "execution_count": 50,
     "metadata": {},
     "output_type": "execute_result"
    },
    {
     "data": {
      "image/png": "[encoded data removed]",
      "text/plain": [
       "<Figure size 200x200 with 1 Axes>"
      ]
     },
     "metadata": {},
     "output_type": "display_data"
    }
   ],
   "source": [
    "plt.figure(figsize=(2,2))\n",
    "df1.plot.bar()\n",
    "plt.ylabel('number of employee')"
   ]
  },
  {
   "cell_type": "markdown",
   "id": "b658cca7",
   "metadata": {},
   "source": [
    "### Q4- What is the distribution of gender in the company?"
   ]
  },
  {
   "cell_type": "code",
   "execution_count": 26,
   "id": "03b23ecb",
   "metadata": {},
   "outputs": [
    {
     "data": {
      "text/plain": [
       "Gender\n",
       "Female    18\n",
       "Male      17\n",
       "Name: Gender, dtype: int64"
      ]
     },
     "execution_count": 26,
     "metadata": {},
     "output_type": "execute_result"
    }
   ],
   "source": [
    "df2= emp_df.groupby('Gender')['Gender'].count()\n",
    "df2"
   ]
  },
  {
   "cell_type": "code",
   "execution_count": 53,
   "id": "76e83e47",
   "metadata": {},
   "outputs": [
    {
     "data": {
      "text/plain": [
       "([<matplotlib.patches.Wedge at 0x2b806826ac0>,\n",
       "  <matplotlib.patches.Wedge at 0x2b806826bb0>],\n",
       " [Text(-0.04935141333170312, 1.0988923687068555, 'female'),\n",
       "  Text(0.04935151621743131, -1.098892364086238, 'male')])"
      ]
     },
     "execution_count": 53,
     "metadata": {},
     "output_type": "execute_result"
    },
    {
     "data": {
      "image/png": "[encoded data removed]",
      "text/plain": [
       "<Figure size 200x200 with 1 Axes>"
      ]
     },
     "metadata": {},
     "output_type": "display_data"
    }
   ],
   "source": [
    "plt.figure(figsize=(2,2))\n",
    "plt.pie(df2,labels=['female','male'])\n"
   ]
  },
  {
   "cell_type": "markdown",
   "id": "2c5e5124",
   "metadata": {},
   "source": [
    "### Q5- Is there a correlation between years of experience and salary?"
   ]
  },
  {
   "cell_type": "code",
   "execution_count": 31,
   "id": "10e37dca",
   "metadata": {},
   "outputs": [
    {
     "data": {
      "text/plain": [
       "Text(0, 0.5, 'Experience -->')"
      ]
     },
     "execution_count": 31,
     "metadata": {},
     "output_type": "execute_result"
    },
    {
     "data": {
      "image/png": "[encoded data removed]",
      "text/plain": [
       "<Figure size 640x480 with 1 Axes>"
      ]
     },
     "metadata": {},
     "output_type": "display_data"
    }
   ],
   "source": [
    "plt.figure()\n",
    "plt.scatter(emp_df['Salary'],emp_df['Experience_Years'])\n",
    "plt.xlabel('salary -->')\n",
    "plt.ylabel('Experience -->')"
   ]
  },
  {
   "cell_type": "code",
   "execution_count": 32,
   "id": "45968368",
   "metadata": {},
   "outputs": [
    {
     "data": {
      "text/plain": [
       "0.6855999775494618"
      ]
     },
     "execution_count": 32,
     "metadata": {},
     "output_type": "execute_result"
    }
   ],
   "source": [
    "import scipy.stats\n",
    "scipy.stats.pearsonr(emp_df['Salary'],emp_df['Experience_Years'])[0]"
   ]
  },
  {
   "cell_type": "code",
   "execution_count": null,
   "id": "17131819",
   "metadata": {},
   "outputs": [],
   "source": []
  }
 ],
 "metadata": {
  "kernelspec": {
   "display_name": "Python 3 (ipykernel)",
   "language": "python",
   "name": "python3"
  },
  "language_info": {
   "codemirror_mode": {
    "name": "ipython",
    "version": 3
   },
   "file_extension": ".py",
   "mimetype": "text/x-python",
   "name": "python",
   "nbconvert_exporter": "python",
   "pygments_lexer": "ipython3",
   "version": "3.9.13"
  }
 },
 "nbformat": 4,
 "nbformat_minor": 5
}
